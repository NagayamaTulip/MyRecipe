{
 "cells": [
  {
   "cell_type": "markdown",
   "id": "258d3a7c",
   "metadata": {},
   "source": [
    "色指定（RGB）"
   ]
  },
  {
   "cell_type": "code",
   "execution_count": null,
   "id": "47a24a15",
   "metadata": {},
   "outputs": [],
   "source": [
    "%run color_rgb.py"
   ]
  },
  {
   "cell_type": "markdown",
   "id": "1bc8fa00",
   "metadata": {},
   "source": [
    "色指定（HSB）"
   ]
  },
  {
   "cell_type": "code",
   "execution_count": null,
   "id": "3dee1bb4",
   "metadata": {},
   "outputs": [],
   "source": [
    "%run color_hsb.py"
   ]
  },
  {
   "cell_type": "raw",
   "id": "2a59dca3",
   "metadata": {},
   "source": []
  },
  {
   "cell_type": "markdown",
   "id": "f02b7276",
   "metadata": {},
   "source": [
    "グラデーション（RGB）"
   ]
  },
  {
   "cell_type": "code",
   "execution_count": null,
   "id": "fe4e1532",
   "metadata": {},
   "outputs": [],
   "source": [
    "%run grad_rgb.py"
   ]
  },
  {
   "cell_type": "markdown",
   "id": "b44118a0",
   "metadata": {},
   "source": [
    "グラデーション（HSB）"
   ]
  },
  {
   "cell_type": "code",
   "execution_count": null,
   "id": "acb65ebb",
   "metadata": {},
   "outputs": [],
   "source": [
    "%run grad_hsb.py"
   ]
  },
  {
   "cell_type": "raw",
   "id": "360311b8",
   "metadata": {},
   "source": []
  },
  {
   "cell_type": "markdown",
   "id": "74915a10",
   "metadata": {},
   "source": [
    "数字イラスト（RGB）"
   ]
  },
  {
   "cell_type": "code",
   "execution_count": null,
   "id": "713fd986",
   "metadata": {},
   "outputs": [],
   "source": [
    "%run num_rgb.py"
   ]
  },
  {
   "cell_type": "markdown",
   "id": "5e1d4660",
   "metadata": {},
   "source": [
    "数字イラスト（HSB）"
   ]
  },
  {
   "cell_type": "code",
   "execution_count": null,
   "id": "cf9bfc61",
   "metadata": {},
   "outputs": [],
   "source": [
    "%run num_hsb.py"
   ]
  },
  {
   "cell_type": "raw",
   "id": "2e114683",
   "metadata": {},
   "source": []
  },
  {
   "cell_type": "markdown",
   "id": "c8354ba9",
   "metadata": {},
   "source": [
    "文字イラスト（RGB）"
   ]
  },
  {
   "cell_type": "code",
   "execution_count": null,
   "id": "76566f64",
   "metadata": {},
   "outputs": [],
   "source": [
    "%run letter_rgb.py"
   ]
  },
  {
   "cell_type": "markdown",
   "id": "a5317b25",
   "metadata": {},
   "source": [
    "文字イラスト（HSB）"
   ]
  },
  {
   "cell_type": "code",
   "execution_count": null,
   "id": "17b1ffbf",
   "metadata": {},
   "outputs": [],
   "source": [
    "%run letter_hsb.py"
   ]
  },
  {
   "cell_type": "raw",
   "id": "4a1abd0e",
   "metadata": {},
   "source": []
  },
  {
   "cell_type": "markdown",
   "id": "3e4407a6",
   "metadata": {},
   "source": [
    "形イラスト（RGB）"
   ]
  },
  {
   "cell_type": "code",
   "execution_count": null,
   "id": "a874a573",
   "metadata": {},
   "outputs": [],
   "source": [
    "%run shape_rgb.py"
   ]
  },
  {
   "cell_type": "markdown",
   "id": "e9eb2b44",
   "metadata": {},
   "source": [
    "形イラスト（HSB）"
   ]
  },
  {
   "cell_type": "code",
   "execution_count": null,
   "id": "179df1a6",
   "metadata": {},
   "outputs": [],
   "source": [
    "%run shape_hsb.py"
   ]
  },
  {
   "cell_type": "raw",
   "id": "532ce1e7",
   "metadata": {},
   "source": []
  },
  {
   "cell_type": "markdown",
   "id": "606db140",
   "metadata": {},
   "source": [
    "分割イラスト（RGB）"
   ]
  },
  {
   "cell_type": "code",
   "execution_count": null,
   "id": "21edaca9",
   "metadata": {},
   "outputs": [],
   "source": [
    "%run split_rgb.py"
   ]
  },
  {
   "cell_type": "markdown",
   "id": "886c788f",
   "metadata": {},
   "source": [
    "分割イラスト（HSB）"
   ]
  },
  {
   "cell_type": "code",
   "execution_count": null,
   "id": "1ea8ddee",
   "metadata": {},
   "outputs": [],
   "source": [
    "%run split_hsb.py"
   ]
  },
  {
   "cell_type": "raw",
   "id": "b4e0c983",
   "metadata": {},
   "source": []
  },
  {
   "cell_type": "markdown",
   "id": "25b03f02",
   "metadata": {},
   "source": [
    "収縮・膨張イラスト（RGB）"
   ]
  },
  {
   "cell_type": "code",
   "execution_count": null,
   "id": "a335206d",
   "metadata": {},
   "outputs": [],
   "source": [
    "%run free_rgb.py"
   ]
  },
  {
   "cell_type": "markdown",
   "id": "039338c9",
   "metadata": {},
   "source": [
    "収縮・膨張イラスト（HSB）"
   ]
  },
  {
   "cell_type": "code",
   "execution_count": null,
   "id": "ac7cc30e",
   "metadata": {},
   "outputs": [],
   "source": [
    "%run free_hsb.py"
   ]
  },
  {
   "cell_type": "raw",
   "id": "75de50eb",
   "metadata": {},
   "source": []
  },
  {
   "cell_type": "markdown",
   "id": "df8f3f2b",
   "metadata": {},
   "source": [
    "回転イラスト（RGB）"
   ]
  },
  {
   "cell_type": "code",
   "execution_count": null,
   "id": "6ecd38c5",
   "metadata": {},
   "outputs": [],
   "source": [
    "%run rotate_rgb.py"
   ]
  },
  {
   "cell_type": "markdown",
   "id": "46ee584a",
   "metadata": {},
   "source": [
    "回転イラスト（HSB）"
   ]
  },
  {
   "cell_type": "code",
   "execution_count": null,
   "id": "0342be23",
   "metadata": {},
   "outputs": [],
   "source": [
    "%run rotate_hsb.py"
   ]
  },
  {
   "cell_type": "raw",
   "id": "c954ac48",
   "metadata": {},
   "source": []
  },
  {
   "cell_type": "markdown",
   "id": "d8eafd72",
   "metadata": {},
   "source": [
    "ラフイラスト（RGB）"
   ]
  },
  {
   "cell_type": "code",
   "execution_count": null,
   "id": "65bdaf20",
   "metadata": {},
   "outputs": [],
   "source": [
    "%run rough_rgb.py"
   ]
  },
  {
   "cell_type": "markdown",
   "id": "0db414ba",
   "metadata": {},
   "source": [
    "ラフイラスト（HSB）"
   ]
  },
  {
   "cell_type": "code",
   "execution_count": null,
   "id": "24361c11",
   "metadata": {},
   "outputs": [],
   "source": [
    "%run rough_hsb.py"
   ]
  },
  {
   "cell_type": "raw",
   "id": "5ec7c3d0",
   "metadata": {},
   "source": []
  },
  {
   "cell_type": "markdown",
   "id": "f5ca9f57",
   "metadata": {},
   "source": [
    "ブレンドイラスト（RGB）"
   ]
  },
  {
   "cell_type": "code",
   "execution_count": null,
   "id": "9af6dfa3",
   "metadata": {},
   "outputs": [],
   "source": [
    "%run blend_rgb.py"
   ]
  },
  {
   "cell_type": "markdown",
   "id": "ad10fb59",
   "metadata": {},
   "source": [
    "ブレンドイラスト（HSB）"
   ]
  },
  {
   "cell_type": "code",
   "execution_count": null,
   "id": "4e8bd6ec",
   "metadata": {},
   "outputs": [],
   "source": [
    "%run blend_hsb.py"
   ]
  },
  {
   "cell_type": "raw",
   "id": "45448256",
   "metadata": {},
   "source": []
  },
  {
   "cell_type": "markdown",
   "id": "ef71ec28",
   "metadata": {},
   "source": [
    "縮小コピーイラスト（RGB）"
   ]
  },
  {
   "cell_type": "code",
   "execution_count": null,
   "id": "5581f05f",
   "metadata": {},
   "outputs": [],
   "source": [
    "%run ratio_rgb.py"
   ]
  },
  {
   "cell_type": "markdown",
   "id": "dd3314b4",
   "metadata": {},
   "source": [
    "縮小コピーイラスト（HSB）"
   ]
  },
  {
   "cell_type": "code",
   "execution_count": null,
   "id": "40b1a465",
   "metadata": {},
   "outputs": [],
   "source": [
    "%run ratio_hsb.py"
   ]
  },
  {
   "cell_type": "code",
   "execution_count": null,
   "id": "410b2e2d",
   "metadata": {},
   "outputs": [],
   "source": []
  }
 ],
 "metadata": {
  "kernelspec": {
   "display_name": "Python 3 (ipykernel)",
   "language": "python",
   "name": "python3"
  },
  "language_info": {
   "codemirror_mode": {
    "name": "ipython",
    "version": 3
   },
   "file_extension": ".py",
   "mimetype": "text/x-python",
   "name": "python",
   "nbconvert_exporter": "python",
   "pygments_lexer": "ipython3",
   "version": "3.9.12"
  }
 },
 "nbformat": 4,
 "nbformat_minor": 5
}
